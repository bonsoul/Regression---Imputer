{
 "cells": [
  {
   "cell_type": "code",
   "execution_count": 1,
   "id": "c3092e74",
   "metadata": {
    "_cell_guid": "b1076dfc-b9ad-4769-8c92-a6c4dae69d19",
    "_uuid": "8f2839f25d086af736a60e9eeb907d3b93b6e0e5",
    "execution": {
     "iopub.execute_input": "2024-02-14T09:55:03.147628Z",
     "iopub.status.busy": "2024-02-14T09:55:03.147034Z",
     "iopub.status.idle": "2024-02-14T09:55:04.010319Z",
     "shell.execute_reply": "2024-02-14T09:55:04.009190Z"
    },
    "papermill": {
     "duration": 0.872766,
     "end_time": "2024-02-14T09:55:04.012661",
     "exception": false,
     "start_time": "2024-02-14T09:55:03.139895",
     "status": "completed"
    },
    "tags": []
   },
   "outputs": [
    {
     "name": "stdout",
     "output_type": "stream",
     "text": [
      "/kaggle/input/estate/real_estate.csv\n"
     ]
    }
   ],
   "source": [
    "# This Python 3 environment comes with many helpful analytics libraries installed\n",
    "# It is defined by the kaggle/python Docker image: https://github.com/kaggle/docker-python\n",
    "# For example, here's several helpful packages to load\n",
    "\n",
    "import numpy as np # linear algebra\n",
    "import pandas as pd # data processing, CSV file I/O (e.g. pd.read_csv)\n",
    "import matplotlib.pyplot as plt\n",
    "\n",
    "# Input data files are available in the read-only \"../input/\" directory\n",
    "# For example, running this (by clicking run or pressing Shift+Enter) will list all files under the input directory\n",
    "\n",
    "import os\n",
    "for dirname, _, filenames in os.walk('/kaggle/input'):\n",
    "    for filename in filenames:\n",
    "        print(os.path.join(dirname, filename))\n",
    "\n",
    "# You can write up to 20GB to the current directory (/kaggle/working/) that gets preserved as output when you create a version using \"Save & Run All\" \n",
    "# You can also write temporary files to /kaggle/temp/, but they won't be saved outside of the current session"
   ]
  },
  {
   "cell_type": "code",
   "execution_count": 2,
   "id": "1429ad85",
   "metadata": {
    "execution": {
     "iopub.execute_input": "2024-02-14T09:55:04.024346Z",
     "iopub.status.busy": "2024-02-14T09:55:04.023878Z",
     "iopub.status.idle": "2024-02-14T09:55:04.053583Z",
     "shell.execute_reply": "2024-02-14T09:55:04.052417Z"
    },
    "papermill": {
     "duration": 0.038501,
     "end_time": "2024-02-14T09:55:04.056168",
     "exception": false,
     "start_time": "2024-02-14T09:55:04.017667",
     "status": "completed"
    },
    "tags": []
   },
   "outputs": [
    {
     "data": {
      "text/html": [
       "<div>\n",
       "<style scoped>\n",
       "    .dataframe tbody tr th:only-of-type {\n",
       "        vertical-align: middle;\n",
       "    }\n",
       "\n",
       "    .dataframe tbody tr th {\n",
       "        vertical-align: top;\n",
       "    }\n",
       "\n",
       "    .dataframe thead th {\n",
       "        text-align: right;\n",
       "    }\n",
       "</style>\n",
       "<table border=\"1\" class=\"dataframe\">\n",
       "  <thead>\n",
       "    <tr style=\"text-align: right;\">\n",
       "      <th></th>\n",
       "      <th>transaction_date</th>\n",
       "      <th>house_age</th>\n",
       "      <th>transit_distance</th>\n",
       "      <th>local_convenience_stores</th>\n",
       "      <th>latitude</th>\n",
       "      <th>longitude</th>\n",
       "      <th>price_per_unit</th>\n",
       "    </tr>\n",
       "  </thead>\n",
       "  <tbody>\n",
       "    <tr>\n",
       "      <th>0</th>\n",
       "      <td>2012.917</td>\n",
       "      <td>32.0</td>\n",
       "      <td>84.87882</td>\n",
       "      <td>10</td>\n",
       "      <td>24.98298</td>\n",
       "      <td>121.54024</td>\n",
       "      <td>37.9</td>\n",
       "    </tr>\n",
       "    <tr>\n",
       "      <th>1</th>\n",
       "      <td>2012.917</td>\n",
       "      <td>19.5</td>\n",
       "      <td>306.59470</td>\n",
       "      <td>9</td>\n",
       "      <td>24.98034</td>\n",
       "      <td>121.53951</td>\n",
       "      <td>42.2</td>\n",
       "    </tr>\n",
       "    <tr>\n",
       "      <th>2</th>\n",
       "      <td>2013.583</td>\n",
       "      <td>13.3</td>\n",
       "      <td>561.98450</td>\n",
       "      <td>5</td>\n",
       "      <td>24.98746</td>\n",
       "      <td>121.54391</td>\n",
       "      <td>47.3</td>\n",
       "    </tr>\n",
       "    <tr>\n",
       "      <th>3</th>\n",
       "      <td>2013.500</td>\n",
       "      <td>13.3</td>\n",
       "      <td>561.98450</td>\n",
       "      <td>5</td>\n",
       "      <td>24.98746</td>\n",
       "      <td>121.54391</td>\n",
       "      <td>54.8</td>\n",
       "    </tr>\n",
       "    <tr>\n",
       "      <th>4</th>\n",
       "      <td>2012.833</td>\n",
       "      <td>5.0</td>\n",
       "      <td>390.56840</td>\n",
       "      <td>5</td>\n",
       "      <td>24.97937</td>\n",
       "      <td>121.54245</td>\n",
       "      <td>43.1</td>\n",
       "    </tr>\n",
       "  </tbody>\n",
       "</table>\n",
       "</div>"
      ],
      "text/plain": [
       "   transaction_date  house_age  transit_distance  local_convenience_stores  \\\n",
       "0          2012.917       32.0          84.87882                        10   \n",
       "1          2012.917       19.5         306.59470                         9   \n",
       "2          2013.583       13.3         561.98450                         5   \n",
       "3          2013.500       13.3         561.98450                         5   \n",
       "4          2012.833        5.0         390.56840                         5   \n",
       "\n",
       "   latitude  longitude  price_per_unit  \n",
       "0  24.98298  121.54024            37.9  \n",
       "1  24.98034  121.53951            42.2  \n",
       "2  24.98746  121.54391            47.3  \n",
       "3  24.98746  121.54391            54.8  \n",
       "4  24.97937  121.54245            43.1  "
      ]
     },
     "execution_count": 2,
     "metadata": {},
     "output_type": "execute_result"
    }
   ],
   "source": [
    "data = pd.read_csv('/kaggle/input/estate/real_estate.csv')\n",
    "\n",
    "data.head()"
   ]
  },
  {
   "cell_type": "code",
   "execution_count": 3,
   "id": "437934f9",
   "metadata": {
    "execution": {
     "iopub.execute_input": "2024-02-14T09:55:04.067913Z",
     "iopub.status.busy": "2024-02-14T09:55:04.067544Z",
     "iopub.status.idle": "2024-02-14T09:55:04.102084Z",
     "shell.execute_reply": "2024-02-14T09:55:04.100816Z"
    },
    "papermill": {
     "duration": 0.043376,
     "end_time": "2024-02-14T09:55:04.104599",
     "exception": false,
     "start_time": "2024-02-14T09:55:04.061223",
     "status": "completed"
    },
    "tags": []
   },
   "outputs": [
    {
     "data": {
      "text/html": [
       "<div>\n",
       "<style scoped>\n",
       "    .dataframe tbody tr th:only-of-type {\n",
       "        vertical-align: middle;\n",
       "    }\n",
       "\n",
       "    .dataframe tbody tr th {\n",
       "        vertical-align: top;\n",
       "    }\n",
       "\n",
       "    .dataframe thead th {\n",
       "        text-align: right;\n",
       "    }\n",
       "</style>\n",
       "<table border=\"1\" class=\"dataframe\">\n",
       "  <thead>\n",
       "    <tr style=\"text-align: right;\">\n",
       "      <th></th>\n",
       "      <th>transaction_date</th>\n",
       "      <th>house_age</th>\n",
       "      <th>transit_distance</th>\n",
       "      <th>local_convenience_stores</th>\n",
       "      <th>latitude</th>\n",
       "      <th>longitude</th>\n",
       "      <th>price_per_unit</th>\n",
       "    </tr>\n",
       "  </thead>\n",
       "  <tbody>\n",
       "    <tr>\n",
       "      <th>count</th>\n",
       "      <td>414.000000</td>\n",
       "      <td>414.000000</td>\n",
       "      <td>414.000000</td>\n",
       "      <td>414.000000</td>\n",
       "      <td>414.000000</td>\n",
       "      <td>414.000000</td>\n",
       "      <td>414.000000</td>\n",
       "    </tr>\n",
       "    <tr>\n",
       "      <th>mean</th>\n",
       "      <td>2013.148971</td>\n",
       "      <td>17.712560</td>\n",
       "      <td>1083.885689</td>\n",
       "      <td>4.094203</td>\n",
       "      <td>24.969030</td>\n",
       "      <td>121.533361</td>\n",
       "      <td>37.980193</td>\n",
       "    </tr>\n",
       "    <tr>\n",
       "      <th>std</th>\n",
       "      <td>0.281967</td>\n",
       "      <td>11.392485</td>\n",
       "      <td>1262.109595</td>\n",
       "      <td>2.945562</td>\n",
       "      <td>0.012410</td>\n",
       "      <td>0.015347</td>\n",
       "      <td>13.606488</td>\n",
       "    </tr>\n",
       "    <tr>\n",
       "      <th>min</th>\n",
       "      <td>2012.667000</td>\n",
       "      <td>0.000000</td>\n",
       "      <td>23.382840</td>\n",
       "      <td>0.000000</td>\n",
       "      <td>24.932070</td>\n",
       "      <td>121.473530</td>\n",
       "      <td>7.600000</td>\n",
       "    </tr>\n",
       "    <tr>\n",
       "      <th>25%</th>\n",
       "      <td>2012.917000</td>\n",
       "      <td>9.025000</td>\n",
       "      <td>289.324800</td>\n",
       "      <td>1.000000</td>\n",
       "      <td>24.963000</td>\n",
       "      <td>121.528085</td>\n",
       "      <td>27.700000</td>\n",
       "    </tr>\n",
       "    <tr>\n",
       "      <th>50%</th>\n",
       "      <td>2013.167000</td>\n",
       "      <td>16.100000</td>\n",
       "      <td>492.231300</td>\n",
       "      <td>4.000000</td>\n",
       "      <td>24.971100</td>\n",
       "      <td>121.538630</td>\n",
       "      <td>38.450000</td>\n",
       "    </tr>\n",
       "    <tr>\n",
       "      <th>75%</th>\n",
       "      <td>2013.417000</td>\n",
       "      <td>28.150000</td>\n",
       "      <td>1454.279000</td>\n",
       "      <td>6.000000</td>\n",
       "      <td>24.977455</td>\n",
       "      <td>121.543305</td>\n",
       "      <td>46.600000</td>\n",
       "    </tr>\n",
       "    <tr>\n",
       "      <th>max</th>\n",
       "      <td>2013.583000</td>\n",
       "      <td>43.800000</td>\n",
       "      <td>6488.021000</td>\n",
       "      <td>10.000000</td>\n",
       "      <td>25.014590</td>\n",
       "      <td>121.566270</td>\n",
       "      <td>117.500000</td>\n",
       "    </tr>\n",
       "  </tbody>\n",
       "</table>\n",
       "</div>"
      ],
      "text/plain": [
       "       transaction_date   house_age  transit_distance  \\\n",
       "count        414.000000  414.000000        414.000000   \n",
       "mean        2013.148971   17.712560       1083.885689   \n",
       "std            0.281967   11.392485       1262.109595   \n",
       "min         2012.667000    0.000000         23.382840   \n",
       "25%         2012.917000    9.025000        289.324800   \n",
       "50%         2013.167000   16.100000        492.231300   \n",
       "75%         2013.417000   28.150000       1454.279000   \n",
       "max         2013.583000   43.800000       6488.021000   \n",
       "\n",
       "       local_convenience_stores    latitude   longitude  price_per_unit  \n",
       "count                414.000000  414.000000  414.000000      414.000000  \n",
       "mean                   4.094203   24.969030  121.533361       37.980193  \n",
       "std                    2.945562    0.012410    0.015347       13.606488  \n",
       "min                    0.000000   24.932070  121.473530        7.600000  \n",
       "25%                    1.000000   24.963000  121.528085       27.700000  \n",
       "50%                    4.000000   24.971100  121.538630       38.450000  \n",
       "75%                    6.000000   24.977455  121.543305       46.600000  \n",
       "max                   10.000000   25.014590  121.566270      117.500000  "
      ]
     },
     "execution_count": 3,
     "metadata": {},
     "output_type": "execute_result"
    }
   ],
   "source": [
    "data.describe()"
   ]
  },
  {
   "cell_type": "code",
   "execution_count": 4,
   "id": "6f5dbd69",
   "metadata": {
    "execution": {
     "iopub.execute_input": "2024-02-14T09:55:04.117132Z",
     "iopub.status.busy": "2024-02-14T09:55:04.116723Z",
     "iopub.status.idle": "2024-02-14T09:55:04.125012Z",
     "shell.execute_reply": "2024-02-14T09:55:04.123706Z"
    },
    "papermill": {
     "duration": 0.016901,
     "end_time": "2024-02-14T09:55:04.127215",
     "exception": false,
     "start_time": "2024-02-14T09:55:04.110314",
     "status": "completed"
    },
    "tags": []
   },
   "outputs": [
    {
     "data": {
      "text/plain": [
       "transaction_date            0\n",
       "house_age                   0\n",
       "transit_distance            0\n",
       "local_convenience_stores    0\n",
       "latitude                    0\n",
       "longitude                   0\n",
       "price_per_unit              0\n",
       "dtype: int64"
      ]
     },
     "execution_count": 4,
     "metadata": {},
     "output_type": "execute_result"
    }
   ],
   "source": [
    "data.isnull().sum()"
   ]
  },
  {
   "cell_type": "code",
   "execution_count": 5,
   "id": "5b9e3612",
   "metadata": {
    "execution": {
     "iopub.execute_input": "2024-02-14T09:55:04.139561Z",
     "iopub.status.busy": "2024-02-14T09:55:04.139214Z",
     "iopub.status.idle": "2024-02-14T09:55:04.162292Z",
     "shell.execute_reply": "2024-02-14T09:55:04.161569Z"
    },
    "papermill": {
     "duration": 0.031781,
     "end_time": "2024-02-14T09:55:04.164276",
     "exception": false,
     "start_time": "2024-02-14T09:55:04.132495",
     "status": "completed"
    },
    "tags": []
   },
   "outputs": [
    {
     "data": {
      "text/html": [
       "<div>\n",
       "<style scoped>\n",
       "    .dataframe tbody tr th:only-of-type {\n",
       "        vertical-align: middle;\n",
       "    }\n",
       "\n",
       "    .dataframe tbody tr th {\n",
       "        vertical-align: top;\n",
       "    }\n",
       "\n",
       "    .dataframe thead th {\n",
       "        text-align: right;\n",
       "    }\n",
       "</style>\n",
       "<table border=\"1\" class=\"dataframe\">\n",
       "  <thead>\n",
       "    <tr style=\"text-align: right;\">\n",
       "      <th></th>\n",
       "      <th>transaction_date</th>\n",
       "      <th>house_age</th>\n",
       "      <th>transit_distance</th>\n",
       "      <th>local_convenience_stores</th>\n",
       "      <th>latitude</th>\n",
       "      <th>longitude</th>\n",
       "      <th>price_per_unit</th>\n",
       "      <th>day</th>\n",
       "    </tr>\n",
       "  </thead>\n",
       "  <tbody>\n",
       "    <tr>\n",
       "      <th>0</th>\n",
       "      <td>2012.917</td>\n",
       "      <td>32.0</td>\n",
       "      <td>84.87882</td>\n",
       "      <td>10</td>\n",
       "      <td>24.98298</td>\n",
       "      <td>121.54024</td>\n",
       "      <td>37.9</td>\n",
       "      <td>1</td>\n",
       "    </tr>\n",
       "    <tr>\n",
       "      <th>1</th>\n",
       "      <td>2012.917</td>\n",
       "      <td>19.5</td>\n",
       "      <td>306.59470</td>\n",
       "      <td>9</td>\n",
       "      <td>24.98034</td>\n",
       "      <td>121.53951</td>\n",
       "      <td>42.2</td>\n",
       "      <td>1</td>\n",
       "    </tr>\n",
       "    <tr>\n",
       "      <th>2</th>\n",
       "      <td>2013.583</td>\n",
       "      <td>13.3</td>\n",
       "      <td>561.98450</td>\n",
       "      <td>5</td>\n",
       "      <td>24.98746</td>\n",
       "      <td>121.54391</td>\n",
       "      <td>47.3</td>\n",
       "      <td>1</td>\n",
       "    </tr>\n",
       "    <tr>\n",
       "      <th>3</th>\n",
       "      <td>2013.500</td>\n",
       "      <td>13.3</td>\n",
       "      <td>561.98450</td>\n",
       "      <td>5</td>\n",
       "      <td>24.98746</td>\n",
       "      <td>121.54391</td>\n",
       "      <td>54.8</td>\n",
       "      <td>1</td>\n",
       "    </tr>\n",
       "    <tr>\n",
       "      <th>4</th>\n",
       "      <td>2012.833</td>\n",
       "      <td>5.0</td>\n",
       "      <td>390.56840</td>\n",
       "      <td>5</td>\n",
       "      <td>24.97937</td>\n",
       "      <td>121.54245</td>\n",
       "      <td>43.1</td>\n",
       "      <td>1</td>\n",
       "    </tr>\n",
       "    <tr>\n",
       "      <th>5</th>\n",
       "      <td>2012.667</td>\n",
       "      <td>7.1</td>\n",
       "      <td>2175.03000</td>\n",
       "      <td>3</td>\n",
       "      <td>24.96305</td>\n",
       "      <td>121.51254</td>\n",
       "      <td>32.1</td>\n",
       "      <td>1</td>\n",
       "    </tr>\n",
       "    <tr>\n",
       "      <th>6</th>\n",
       "      <td>2012.667</td>\n",
       "      <td>34.5</td>\n",
       "      <td>623.47310</td>\n",
       "      <td>7</td>\n",
       "      <td>24.97933</td>\n",
       "      <td>121.53642</td>\n",
       "      <td>40.3</td>\n",
       "      <td>1</td>\n",
       "    </tr>\n",
       "    <tr>\n",
       "      <th>7</th>\n",
       "      <td>2013.417</td>\n",
       "      <td>20.3</td>\n",
       "      <td>287.60250</td>\n",
       "      <td>6</td>\n",
       "      <td>24.98042</td>\n",
       "      <td>121.54228</td>\n",
       "      <td>46.7</td>\n",
       "      <td>1</td>\n",
       "    </tr>\n",
       "    <tr>\n",
       "      <th>8</th>\n",
       "      <td>2013.500</td>\n",
       "      <td>31.7</td>\n",
       "      <td>5512.03800</td>\n",
       "      <td>1</td>\n",
       "      <td>24.95095</td>\n",
       "      <td>121.48458</td>\n",
       "      <td>18.8</td>\n",
       "      <td>1</td>\n",
       "    </tr>\n",
       "    <tr>\n",
       "      <th>9</th>\n",
       "      <td>2013.417</td>\n",
       "      <td>17.9</td>\n",
       "      <td>1783.18000</td>\n",
       "      <td>3</td>\n",
       "      <td>24.96731</td>\n",
       "      <td>121.51486</td>\n",
       "      <td>22.1</td>\n",
       "      <td>1</td>\n",
       "    </tr>\n",
       "    <tr>\n",
       "      <th>10</th>\n",
       "      <td>2013.083</td>\n",
       "      <td>34.8</td>\n",
       "      <td>405.21340</td>\n",
       "      <td>1</td>\n",
       "      <td>24.97349</td>\n",
       "      <td>121.53372</td>\n",
       "      <td>41.4</td>\n",
       "      <td>1</td>\n",
       "    </tr>\n",
       "    <tr>\n",
       "      <th>11</th>\n",
       "      <td>2013.333</td>\n",
       "      <td>6.3</td>\n",
       "      <td>90.45606</td>\n",
       "      <td>9</td>\n",
       "      <td>24.97433</td>\n",
       "      <td>121.54310</td>\n",
       "      <td>58.1</td>\n",
       "      <td>1</td>\n",
       "    </tr>\n",
       "    <tr>\n",
       "      <th>12</th>\n",
       "      <td>2012.917</td>\n",
       "      <td>13.0</td>\n",
       "      <td>492.23130</td>\n",
       "      <td>5</td>\n",
       "      <td>24.96515</td>\n",
       "      <td>121.53737</td>\n",
       "      <td>39.3</td>\n",
       "      <td>1</td>\n",
       "    </tr>\n",
       "    <tr>\n",
       "      <th>13</th>\n",
       "      <td>2012.667</td>\n",
       "      <td>20.4</td>\n",
       "      <td>2469.64500</td>\n",
       "      <td>4</td>\n",
       "      <td>24.96108</td>\n",
       "      <td>121.51046</td>\n",
       "      <td>23.8</td>\n",
       "      <td>1</td>\n",
       "    </tr>\n",
       "    <tr>\n",
       "      <th>14</th>\n",
       "      <td>2013.500</td>\n",
       "      <td>13.2</td>\n",
       "      <td>1164.83800</td>\n",
       "      <td>4</td>\n",
       "      <td>24.99156</td>\n",
       "      <td>121.53406</td>\n",
       "      <td>34.3</td>\n",
       "      <td>1</td>\n",
       "    </tr>\n",
       "    <tr>\n",
       "      <th>15</th>\n",
       "      <td>2013.583</td>\n",
       "      <td>35.7</td>\n",
       "      <td>579.20830</td>\n",
       "      <td>2</td>\n",
       "      <td>24.98240</td>\n",
       "      <td>121.54619</td>\n",
       "      <td>50.5</td>\n",
       "      <td>1</td>\n",
       "    </tr>\n",
       "    <tr>\n",
       "      <th>16</th>\n",
       "      <td>2013.250</td>\n",
       "      <td>0.0</td>\n",
       "      <td>292.99780</td>\n",
       "      <td>6</td>\n",
       "      <td>24.97744</td>\n",
       "      <td>121.54458</td>\n",
       "      <td>70.1</td>\n",
       "      <td>1</td>\n",
       "    </tr>\n",
       "    <tr>\n",
       "      <th>17</th>\n",
       "      <td>2012.750</td>\n",
       "      <td>17.7</td>\n",
       "      <td>350.85150</td>\n",
       "      <td>1</td>\n",
       "      <td>24.97544</td>\n",
       "      <td>121.53119</td>\n",
       "      <td>37.4</td>\n",
       "      <td>1</td>\n",
       "    </tr>\n",
       "    <tr>\n",
       "      <th>18</th>\n",
       "      <td>2013.417</td>\n",
       "      <td>16.9</td>\n",
       "      <td>368.13630</td>\n",
       "      <td>8</td>\n",
       "      <td>24.96750</td>\n",
       "      <td>121.54451</td>\n",
       "      <td>42.3</td>\n",
       "      <td>1</td>\n",
       "    </tr>\n",
       "    <tr>\n",
       "      <th>19</th>\n",
       "      <td>2012.667</td>\n",
       "      <td>1.5</td>\n",
       "      <td>23.38284</td>\n",
       "      <td>7</td>\n",
       "      <td>24.96772</td>\n",
       "      <td>121.54102</td>\n",
       "      <td>47.7</td>\n",
       "      <td>1</td>\n",
       "    </tr>\n",
       "    <tr>\n",
       "      <th>20</th>\n",
       "      <td>2013.417</td>\n",
       "      <td>4.5</td>\n",
       "      <td>2275.87700</td>\n",
       "      <td>3</td>\n",
       "      <td>24.96314</td>\n",
       "      <td>121.51151</td>\n",
       "      <td>29.3</td>\n",
       "      <td>1</td>\n",
       "    </tr>\n",
       "    <tr>\n",
       "      <th>21</th>\n",
       "      <td>2013.417</td>\n",
       "      <td>10.5</td>\n",
       "      <td>279.17260</td>\n",
       "      <td>7</td>\n",
       "      <td>24.97528</td>\n",
       "      <td>121.54541</td>\n",
       "      <td>51.6</td>\n",
       "      <td>1</td>\n",
       "    </tr>\n",
       "    <tr>\n",
       "      <th>22</th>\n",
       "      <td>2012.917</td>\n",
       "      <td>14.7</td>\n",
       "      <td>1360.13900</td>\n",
       "      <td>1</td>\n",
       "      <td>24.95204</td>\n",
       "      <td>121.54842</td>\n",
       "      <td>24.6</td>\n",
       "      <td>1</td>\n",
       "    </tr>\n",
       "    <tr>\n",
       "      <th>23</th>\n",
       "      <td>2013.083</td>\n",
       "      <td>10.1</td>\n",
       "      <td>279.17260</td>\n",
       "      <td>7</td>\n",
       "      <td>24.97528</td>\n",
       "      <td>121.54541</td>\n",
       "      <td>47.9</td>\n",
       "      <td>1</td>\n",
       "    </tr>\n",
       "    <tr>\n",
       "      <th>24</th>\n",
       "      <td>2013.000</td>\n",
       "      <td>39.6</td>\n",
       "      <td>480.69770</td>\n",
       "      <td>4</td>\n",
       "      <td>24.97353</td>\n",
       "      <td>121.53885</td>\n",
       "      <td>38.8</td>\n",
       "      <td>1</td>\n",
       "    </tr>\n",
       "    <tr>\n",
       "      <th>25</th>\n",
       "      <td>2013.083</td>\n",
       "      <td>29.3</td>\n",
       "      <td>1487.86800</td>\n",
       "      <td>2</td>\n",
       "      <td>24.97542</td>\n",
       "      <td>121.51726</td>\n",
       "      <td>27.0</td>\n",
       "      <td>1</td>\n",
       "    </tr>\n",
       "    <tr>\n",
       "      <th>26</th>\n",
       "      <td>2012.667</td>\n",
       "      <td>3.1</td>\n",
       "      <td>383.86240</td>\n",
       "      <td>5</td>\n",
       "      <td>24.98085</td>\n",
       "      <td>121.54391</td>\n",
       "      <td>56.2</td>\n",
       "      <td>1</td>\n",
       "    </tr>\n",
       "    <tr>\n",
       "      <th>27</th>\n",
       "      <td>2013.250</td>\n",
       "      <td>10.4</td>\n",
       "      <td>276.44900</td>\n",
       "      <td>5</td>\n",
       "      <td>24.95593</td>\n",
       "      <td>121.53913</td>\n",
       "      <td>33.6</td>\n",
       "      <td>1</td>\n",
       "    </tr>\n",
       "    <tr>\n",
       "      <th>28</th>\n",
       "      <td>2013.500</td>\n",
       "      <td>19.2</td>\n",
       "      <td>557.47800</td>\n",
       "      <td>4</td>\n",
       "      <td>24.97419</td>\n",
       "      <td>121.53797</td>\n",
       "      <td>47.0</td>\n",
       "      <td>1</td>\n",
       "    </tr>\n",
       "    <tr>\n",
       "      <th>29</th>\n",
       "      <td>2013.083</td>\n",
       "      <td>7.1</td>\n",
       "      <td>451.24380</td>\n",
       "      <td>5</td>\n",
       "      <td>24.97563</td>\n",
       "      <td>121.54694</td>\n",
       "      <td>57.1</td>\n",
       "      <td>1</td>\n",
       "    </tr>\n",
       "    <tr>\n",
       "      <th>30</th>\n",
       "      <td>2013.500</td>\n",
       "      <td>25.9</td>\n",
       "      <td>4519.69000</td>\n",
       "      <td>0</td>\n",
       "      <td>24.94826</td>\n",
       "      <td>121.49587</td>\n",
       "      <td>22.1</td>\n",
       "      <td>1</td>\n",
       "    </tr>\n",
       "    <tr>\n",
       "      <th>31</th>\n",
       "      <td>2012.750</td>\n",
       "      <td>29.6</td>\n",
       "      <td>769.40340</td>\n",
       "      <td>7</td>\n",
       "      <td>24.98281</td>\n",
       "      <td>121.53408</td>\n",
       "      <td>25.0</td>\n",
       "      <td>1</td>\n",
       "    </tr>\n",
       "  </tbody>\n",
       "</table>\n",
       "</div>"
      ],
      "text/plain": [
       "    transaction_date  house_age  transit_distance  local_convenience_stores  \\\n",
       "0           2012.917       32.0          84.87882                        10   \n",
       "1           2012.917       19.5         306.59470                         9   \n",
       "2           2013.583       13.3         561.98450                         5   \n",
       "3           2013.500       13.3         561.98450                         5   \n",
       "4           2012.833        5.0         390.56840                         5   \n",
       "5           2012.667        7.1        2175.03000                         3   \n",
       "6           2012.667       34.5         623.47310                         7   \n",
       "7           2013.417       20.3         287.60250                         6   \n",
       "8           2013.500       31.7        5512.03800                         1   \n",
       "9           2013.417       17.9        1783.18000                         3   \n",
       "10          2013.083       34.8         405.21340                         1   \n",
       "11          2013.333        6.3          90.45606                         9   \n",
       "12          2012.917       13.0         492.23130                         5   \n",
       "13          2012.667       20.4        2469.64500                         4   \n",
       "14          2013.500       13.2        1164.83800                         4   \n",
       "15          2013.583       35.7         579.20830                         2   \n",
       "16          2013.250        0.0         292.99780                         6   \n",
       "17          2012.750       17.7         350.85150                         1   \n",
       "18          2013.417       16.9         368.13630                         8   \n",
       "19          2012.667        1.5          23.38284                         7   \n",
       "20          2013.417        4.5        2275.87700                         3   \n",
       "21          2013.417       10.5         279.17260                         7   \n",
       "22          2012.917       14.7        1360.13900                         1   \n",
       "23          2013.083       10.1         279.17260                         7   \n",
       "24          2013.000       39.6         480.69770                         4   \n",
       "25          2013.083       29.3        1487.86800                         2   \n",
       "26          2012.667        3.1         383.86240                         5   \n",
       "27          2013.250       10.4         276.44900                         5   \n",
       "28          2013.500       19.2         557.47800                         4   \n",
       "29          2013.083        7.1         451.24380                         5   \n",
       "30          2013.500       25.9        4519.69000                         0   \n",
       "31          2012.750       29.6         769.40340                         7   \n",
       "\n",
       "    latitude  longitude  price_per_unit  day  \n",
       "0   24.98298  121.54024            37.9    1  \n",
       "1   24.98034  121.53951            42.2    1  \n",
       "2   24.98746  121.54391            47.3    1  \n",
       "3   24.98746  121.54391            54.8    1  \n",
       "4   24.97937  121.54245            43.1    1  \n",
       "5   24.96305  121.51254            32.1    1  \n",
       "6   24.97933  121.53642            40.3    1  \n",
       "7   24.98042  121.54228            46.7    1  \n",
       "8   24.95095  121.48458            18.8    1  \n",
       "9   24.96731  121.51486            22.1    1  \n",
       "10  24.97349  121.53372            41.4    1  \n",
       "11  24.97433  121.54310            58.1    1  \n",
       "12  24.96515  121.53737            39.3    1  \n",
       "13  24.96108  121.51046            23.8    1  \n",
       "14  24.99156  121.53406            34.3    1  \n",
       "15  24.98240  121.54619            50.5    1  \n",
       "16  24.97744  121.54458            70.1    1  \n",
       "17  24.97544  121.53119            37.4    1  \n",
       "18  24.96750  121.54451            42.3    1  \n",
       "19  24.96772  121.54102            47.7    1  \n",
       "20  24.96314  121.51151            29.3    1  \n",
       "21  24.97528  121.54541            51.6    1  \n",
       "22  24.95204  121.54842            24.6    1  \n",
       "23  24.97528  121.54541            47.9    1  \n",
       "24  24.97353  121.53885            38.8    1  \n",
       "25  24.97542  121.51726            27.0    1  \n",
       "26  24.98085  121.54391            56.2    1  \n",
       "27  24.95593  121.53913            33.6    1  \n",
       "28  24.97419  121.53797            47.0    1  \n",
       "29  24.97563  121.54694            57.1    1  \n",
       "30  24.94826  121.49587            22.1    1  \n",
       "31  24.98281  121.53408            25.0    1  "
      ]
     },
     "execution_count": 5,
     "metadata": {},
     "output_type": "execute_result"
    }
   ],
   "source": [
    "data['day'] = pd.DatetimeIndex(data['transaction_date']).day\n",
    "data.head(32)"
   ]
  },
  {
   "cell_type": "code",
   "execution_count": 6,
   "id": "00b04157",
   "metadata": {
    "execution": {
     "iopub.execute_input": "2024-02-14T09:55:04.177515Z",
     "iopub.status.busy": "2024-02-14T09:55:04.177142Z",
     "iopub.status.idle": "2024-02-14T09:55:04.206969Z",
     "shell.execute_reply": "2024-02-14T09:55:04.206159Z"
    },
    "papermill": {
     "duration": 0.038797,
     "end_time": "2024-02-14T09:55:04.208998",
     "exception": false,
     "start_time": "2024-02-14T09:55:04.170201",
     "status": "completed"
    },
    "tags": []
   },
   "outputs": [
    {
     "data": {
      "text/html": [
       "<div>\n",
       "<style scoped>\n",
       "    .dataframe tbody tr th:only-of-type {\n",
       "        vertical-align: middle;\n",
       "    }\n",
       "\n",
       "    .dataframe tbody tr th {\n",
       "        vertical-align: top;\n",
       "    }\n",
       "\n",
       "    .dataframe thead th {\n",
       "        text-align: right;\n",
       "    }\n",
       "</style>\n",
       "<table border=\"1\" class=\"dataframe\">\n",
       "  <thead>\n",
       "    <tr style=\"text-align: right;\">\n",
       "      <th></th>\n",
       "      <th>house_age</th>\n",
       "      <th>transit_distance</th>\n",
       "      <th>local_convenience_stores</th>\n",
       "      <th>latitude</th>\n",
       "      <th>longitude</th>\n",
       "    </tr>\n",
       "  </thead>\n",
       "  <tbody>\n",
       "    <tr>\n",
       "      <th>count</th>\n",
       "      <td>414.000000</td>\n",
       "      <td>414.000000</td>\n",
       "      <td>414.000000</td>\n",
       "      <td>414.000000</td>\n",
       "      <td>414.000000</td>\n",
       "    </tr>\n",
       "    <tr>\n",
       "      <th>mean</th>\n",
       "      <td>17.712560</td>\n",
       "      <td>1083.885689</td>\n",
       "      <td>4.094203</td>\n",
       "      <td>24.969030</td>\n",
       "      <td>121.533361</td>\n",
       "    </tr>\n",
       "    <tr>\n",
       "      <th>std</th>\n",
       "      <td>11.392485</td>\n",
       "      <td>1262.109595</td>\n",
       "      <td>2.945562</td>\n",
       "      <td>0.012410</td>\n",
       "      <td>0.015347</td>\n",
       "    </tr>\n",
       "    <tr>\n",
       "      <th>min</th>\n",
       "      <td>0.000000</td>\n",
       "      <td>23.382840</td>\n",
       "      <td>0.000000</td>\n",
       "      <td>24.932070</td>\n",
       "      <td>121.473530</td>\n",
       "    </tr>\n",
       "    <tr>\n",
       "      <th>25%</th>\n",
       "      <td>9.025000</td>\n",
       "      <td>289.324800</td>\n",
       "      <td>1.000000</td>\n",
       "      <td>24.963000</td>\n",
       "      <td>121.528085</td>\n",
       "    </tr>\n",
       "    <tr>\n",
       "      <th>50%</th>\n",
       "      <td>16.100000</td>\n",
       "      <td>492.231300</td>\n",
       "      <td>4.000000</td>\n",
       "      <td>24.971100</td>\n",
       "      <td>121.538630</td>\n",
       "    </tr>\n",
       "    <tr>\n",
       "      <th>75%</th>\n",
       "      <td>28.150000</td>\n",
       "      <td>1454.279000</td>\n",
       "      <td>6.000000</td>\n",
       "      <td>24.977455</td>\n",
       "      <td>121.543305</td>\n",
       "    </tr>\n",
       "    <tr>\n",
       "      <th>max</th>\n",
       "      <td>43.800000</td>\n",
       "      <td>6488.021000</td>\n",
       "      <td>10.000000</td>\n",
       "      <td>25.014590</td>\n",
       "      <td>121.566270</td>\n",
       "    </tr>\n",
       "  </tbody>\n",
       "</table>\n",
       "</div>"
      ],
      "text/plain": [
       "        house_age  transit_distance  local_convenience_stores    latitude  \\\n",
       "count  414.000000        414.000000                414.000000  414.000000   \n",
       "mean    17.712560       1083.885689                  4.094203   24.969030   \n",
       "std     11.392485       1262.109595                  2.945562    0.012410   \n",
       "min      0.000000         23.382840                  0.000000   24.932070   \n",
       "25%      9.025000        289.324800                  1.000000   24.963000   \n",
       "50%     16.100000        492.231300                  4.000000   24.971100   \n",
       "75%     28.150000       1454.279000                  6.000000   24.977455   \n",
       "max     43.800000       6488.021000                 10.000000   25.014590   \n",
       "\n",
       "        longitude  \n",
       "count  414.000000  \n",
       "mean   121.533361  \n",
       "std      0.015347  \n",
       "min    121.473530  \n",
       "25%    121.528085  \n",
       "50%    121.538630  \n",
       "75%    121.543305  \n",
       "max    121.566270  "
      ]
     },
     "execution_count": 6,
     "metadata": {},
     "output_type": "execute_result"
    }
   ],
   "source": [
    "Features = ['house_age','transit_distance','local_convenience_stores','latitude','longitude']\n",
    "\n",
    "\n",
    "data[Features].describe()"
   ]
  },
  {
   "cell_type": "code",
   "execution_count": 7,
   "id": "8ea550c9",
   "metadata": {
    "execution": {
     "iopub.execute_input": "2024-02-14T09:55:04.224088Z",
     "iopub.status.busy": "2024-02-14T09:55:04.223189Z",
     "iopub.status.idle": "2024-02-14T09:55:04.744124Z",
     "shell.execute_reply": "2024-02-14T09:55:04.743058Z"
    },
    "papermill": {
     "duration": 0.530794,
     "end_time": "2024-02-14T09:55:04.746542",
     "exception": false,
     "start_time": "2024-02-14T09:55:04.215748",
     "status": "completed"
    },
    "tags": []
   },
   "outputs": [
    {
     "data": {
      "image/png": "[encoded data removed]",
      "text/plain": [
       "<Figure size 1200x800 with 2 Axes>"
      ]
     },
     "metadata": {},
     "output_type": "display_data"
    }
   ],
   "source": [
    "label = data['price_per_unit']\n",
    "\n",
    "fig,ax = plt.subplots(1,2, figsize = (12,8))\n",
    "\n",
    "ax[0].hist(label,bins = 100)\n",
    "ax[0].set_ylabel(\"frequency\")\n",
    "\n",
    "ax[0].axvline(label.mean(), color = 'red')\n",
    "ax[0].axvline(label.median(), color = 'yellow')\n",
    "\n",
    "ax[1].boxplot(label , vert = False)\n",
    "ax[1].set_xlabel(\"price_per_unit\")\n",
    "\n",
    "fig.show()"
   ]
  },
  {
   "cell_type": "code",
   "execution_count": 8,
   "id": "42bb7771",
   "metadata": {
    "execution": {
     "iopub.execute_input": "2024-02-14T09:55:04.761591Z",
     "iopub.status.busy": "2024-02-14T09:55:04.761199Z",
     "iopub.status.idle": "2024-02-14T09:55:06.923128Z",
     "shell.execute_reply": "2024-02-14T09:55:06.922205Z"
    },
    "papermill": {
     "duration": 2.172166,
     "end_time": "2024-02-14T09:55:06.925456",
     "exception": false,
     "start_time": "2024-02-14T09:55:04.753290",
     "status": "completed"
    },
    "tags": []
   },
   "outputs": [
    {
     "data": {
      "image/png": "[encoded data removed]",
      "text/plain": [
       "<Figure size 1200x800 with 1 Axes>"
      ]
     },
     "metadata": {},
     "output_type": "display_data"
    },
    {
     "data": {
      "image/png": "[encoded data removed]",
      "text/plain": [
       "<Figure size 1200x800 with 1 Axes>"
      ]
     },
     "metadata": {},
     "output_type": "display_data"
    },
    {
     "data": {
      "image/png": "[encoded data removed]",
      "text/plain": [
       "<Figure size 1200x800 with 1 Axes>"
      ]
     },
     "metadata": {},
     "output_type": "display_data"
    },
    {
     "data": {
      "image/png": "[encoded data removed]",
      "text/plain": [
       "<Figure size 1200x800 with 1 Axes>"
      ]
     },
     "metadata": {},
     "output_type": "display_data"
    },
    {
     "data": {
      "image/png": "[encoded data removed]",
      "text/plain": [
       "<Figure size 1200x800 with 1 Axes>"
      ]
     },
     "metadata": {},
     "output_type": "display_data"
    }
   ],
   "source": [
    "for col in Features:\n",
    "    fig = plt.figure(figsize = (12,8))\n",
    "    ax = fig.gca()\n",
    "    feature  = data[col]\n",
    "    feature.hist(bins = 100, ax = ax)\n",
    "    ax.axvline(label.mean(), color = 'red')\n",
    "    ax.axvline(label.median(), color = 'purple')\n",
    "    ax.set_title(col)\n",
    "    \n",
    "    \n",
    "    fig.show()"
   ]
  },
  {
   "cell_type": "code",
   "execution_count": 9,
   "id": "d077750d",
   "metadata": {
    "execution": {
     "iopub.execute_input": "2024-02-14T09:55:06.943786Z",
     "iopub.status.busy": "2024-02-14T09:55:06.943058Z",
     "iopub.status.idle": "2024-02-14T09:55:06.956021Z",
     "shell.execute_reply": "2024-02-14T09:55:06.955270Z"
    },
    "papermill": {
     "duration": 0.024637,
     "end_time": "2024-02-14T09:55:06.958396",
     "exception": false,
     "start_time": "2024-02-14T09:55:06.933759",
     "status": "completed"
    },
    "tags": []
   },
   "outputs": [
    {
     "data": {
      "text/html": [
       "<div>\n",
       "<style scoped>\n",
       "    .dataframe tbody tr th:only-of-type {\n",
       "        vertical-align: middle;\n",
       "    }\n",
       "\n",
       "    .dataframe tbody tr th {\n",
       "        vertical-align: top;\n",
       "    }\n",
       "\n",
       "    .dataframe thead th {\n",
       "        text-align: right;\n",
       "    }\n",
       "</style>\n",
       "<table border=\"1\" class=\"dataframe\">\n",
       "  <thead>\n",
       "    <tr style=\"text-align: right;\">\n",
       "      <th></th>\n",
       "      <th>house_age</th>\n",
       "      <th>transit_distance</th>\n",
       "      <th>local_convenience_stores</th>\n",
       "      <th>latitude</th>\n",
       "      <th>longitude</th>\n",
       "    </tr>\n",
       "  </thead>\n",
       "  <tbody>\n",
       "    <tr>\n",
       "      <th>0</th>\n",
       "      <td>32.0</td>\n",
       "      <td>84.87882</td>\n",
       "      <td>10</td>\n",
       "      <td>24.98298</td>\n",
       "      <td>121.54024</td>\n",
       "    </tr>\n",
       "    <tr>\n",
       "      <th>1</th>\n",
       "      <td>19.5</td>\n",
       "      <td>306.59470</td>\n",
       "      <td>9</td>\n",
       "      <td>24.98034</td>\n",
       "      <td>121.53951</td>\n",
       "    </tr>\n",
       "    <tr>\n",
       "      <th>2</th>\n",
       "      <td>13.3</td>\n",
       "      <td>561.98450</td>\n",
       "      <td>5</td>\n",
       "      <td>24.98746</td>\n",
       "      <td>121.54391</td>\n",
       "    </tr>\n",
       "    <tr>\n",
       "      <th>3</th>\n",
       "      <td>13.3</td>\n",
       "      <td>561.98450</td>\n",
       "      <td>5</td>\n",
       "      <td>24.98746</td>\n",
       "      <td>121.54391</td>\n",
       "    </tr>\n",
       "    <tr>\n",
       "      <th>4</th>\n",
       "      <td>5.0</td>\n",
       "      <td>390.56840</td>\n",
       "      <td>5</td>\n",
       "      <td>24.97937</td>\n",
       "      <td>121.54245</td>\n",
       "    </tr>\n",
       "  </tbody>\n",
       "</table>\n",
       "</div>"
      ],
      "text/plain": [
       "   house_age  transit_distance  local_convenience_stores  latitude  longitude\n",
       "0       32.0          84.87882                        10  24.98298  121.54024\n",
       "1       19.5         306.59470                         9  24.98034  121.53951\n",
       "2       13.3         561.98450                         5  24.98746  121.54391\n",
       "3       13.3         561.98450                         5  24.98746  121.54391\n",
       "4        5.0         390.56840                         5  24.97937  121.54245"
      ]
     },
     "execution_count": 9,
     "metadata": {},
     "output_type": "execute_result"
    }
   ],
   "source": [
    "X,y = data[['house_age','transit_distance','local_convenience_stores','latitude','longitude']],data['price_per_unit']\n",
    "\n",
    "X.head()"
   ]
  },
  {
   "cell_type": "code",
   "execution_count": 10,
   "id": "4b52b453",
   "metadata": {
    "execution": {
     "iopub.execute_input": "2024-02-14T09:55:06.976895Z",
     "iopub.status.busy": "2024-02-14T09:55:06.976540Z",
     "iopub.status.idle": "2024-02-14T09:55:08.172664Z",
     "shell.execute_reply": "2024-02-14T09:55:08.171447Z"
    },
    "papermill": {
     "duration": 1.208068,
     "end_time": "2024-02-14T09:55:08.174930",
     "exception": false,
     "start_time": "2024-02-14T09:55:06.966862",
     "status": "completed"
    },
    "tags": []
   },
   "outputs": [
    {
     "name": "stdout",
     "output_type": "stream",
     "text": [
      "Training Rows : 289 \n",
      " Testing Rows : 125 \n",
      "\n"
     ]
    }
   ],
   "source": [
    "from sklearn.model_selection import train_test_split\n",
    "\n",
    "X_train,X_test,y_train,y_test = train_test_split(X,y,test_size = 0.3,random_state = 1)\n",
    "\n",
    "print('Training Rows :',X_train.shape[0], '\\n','Testing Rows :',X_test.shape[0], '\\n')\n",
    "#print('Training Set: %d rows\\nTest Set: %d rows' % (X_train.shape[0], X_test.shape[0]))\n"
   ]
  },
  {
   "cell_type": "code",
   "execution_count": 11,
   "id": "328a57db",
   "metadata": {
    "execution": {
     "iopub.execute_input": "2024-02-14T09:55:08.194881Z",
     "iopub.status.busy": "2024-02-14T09:55:08.194478Z",
     "iopub.status.idle": "2024-02-14T09:55:08.315805Z",
     "shell.execute_reply": "2024-02-14T09:55:08.314370Z"
    },
    "papermill": {
     "duration": 0.134239,
     "end_time": "2024-02-14T09:55:08.318047",
     "exception": false,
     "start_time": "2024-02-14T09:55:08.183808",
     "status": "completed"
    },
    "tags": []
   },
   "outputs": [
    {
     "name": "stdout",
     "output_type": "stream",
     "text": [
      "Predicted Labels [32.56860922 46.71399315 23.30750085 15.34917795 42.67419042 32.40791315\n",
      " 30.63793319 43.52390936 38.44641674 12.9655517 ]\n",
      "Actual Label 388    27.3\n",
      "102    54.4\n",
      "187    22.0\n",
      "162    11.6\n",
      "90     45.4\n",
      "398    23.0\n",
      "295    21.8\n",
      "397    32.2\n",
      "17     37.4\n",
      "58     22.6\n",
      "Name: price_per_unit, dtype: float64\n"
     ]
    }
   ],
   "source": [
    "from sklearn.linear_model import LinearRegression\n",
    "\n",
    "\n",
    "model = LinearRegression().fit(X_train,y_train)\n",
    "predictions = model.predict(X_test)\n",
    "\n",
    "\n",
    "print('Predicted Labels', predictions [:10])\n",
    "print('Actual Label' , y_test [:10])"
   ]
  },
  {
   "cell_type": "code",
   "execution_count": 12,
   "id": "32602f1c",
   "metadata": {
    "execution": {
     "iopub.execute_input": "2024-02-14T09:55:08.338001Z",
     "iopub.status.busy": "2024-02-14T09:55:08.337072Z",
     "iopub.status.idle": "2024-02-14T09:55:08.607382Z",
     "shell.execute_reply": "2024-02-14T09:55:08.606186Z"
    },
    "papermill": {
     "duration": 0.283023,
     "end_time": "2024-02-14T09:55:08.609912",
     "exception": false,
     "start_time": "2024-02-14T09:55:08.326889",
     "status": "completed"
    },
    "tags": []
   },
   "outputs": [
    {
     "data": {
      "text/plain": [
       "[<matplotlib.lines.Line2D at 0x7d0dd0aa1f00>]"
      ]
     },
     "execution_count": 12,
     "metadata": {},
     "output_type": "execute_result"
    },
    {
     "data": {
      "image/png": "[encoded data removed]",
      "text/plain": [
       "<Figure size 600x600 with 1 Axes>"
      ]
     },
     "metadata": {},
     "output_type": "display_data"
    }
   ],
   "source": [
    "plt.figure(figsize = (6,6))\n",
    "plt.scatter(y_test,predictions)\n",
    "plt.xlabel('Actual')\n",
    "plt.ylabel('Predicted')\n",
    "\n",
    "plt.title(' Actual vs Predicted')\n",
    "\n",
    "z = np.polyfit(y_test,predictions,1)\n",
    "p = np.poly1d(z)\n",
    "plt.plot(y_test,p(y_test),color = 'red')"
   ]
  },
  {
   "cell_type": "code",
   "execution_count": 13,
   "id": "f566ad42",
   "metadata": {
    "execution": {
     "iopub.execute_input": "2024-02-14T09:55:08.631041Z",
     "iopub.status.busy": "2024-02-14T09:55:08.630652Z",
     "iopub.status.idle": "2024-02-14T09:55:08.639508Z",
     "shell.execute_reply": "2024-02-14T09:55:08.638141Z"
    },
    "papermill": {
     "duration": 0.02226,
     "end_time": "2024-02-14T09:55:08.641883",
     "exception": false,
     "start_time": "2024-02-14T09:55:08.619623",
     "status": "completed"
    },
    "tags": []
   },
   "outputs": [
    {
     "name": "stdout",
     "output_type": "stream",
     "text": [
      "MAE : 6.3762461524272025\n",
      "MSE : 108.81674879525501\n",
      "RMSE : 10.431526676151243\n",
      "r2 : 0.5277562430942593\n"
     ]
    }
   ],
   "source": [
    "from sklearn.metrics import mean_absolute_error,mean_squared_error,r2_score\n",
    "\n",
    "mae = mean_absolute_error(y_test,predictions)\n",
    "print('MAE :',mae)\n",
    "\n",
    "mse = mean_squared_error(y_test,predictions)\n",
    "print('MSE :',mse)\n",
    "\n",
    "rmse = np.sqrt(mse)\n",
    "print('RMSE :',rmse)\n",
    "\n",
    "r2 = r2_score(y_test,predictions)\n",
    "print('r2 :', r2)"
   ]
  },
  {
   "cell_type": "code",
   "execution_count": 14,
   "id": "c29bf782",
   "metadata": {
    "execution": {
     "iopub.execute_input": "2024-02-14T09:55:08.663121Z",
     "iopub.status.busy": "2024-02-14T09:55:08.662686Z",
     "iopub.status.idle": "2024-02-14T09:55:09.066675Z",
     "shell.execute_reply": "2024-02-14T09:55:09.064880Z"
    },
    "papermill": {
     "duration": 0.416928,
     "end_time": "2024-02-14T09:55:09.069133",
     "exception": false,
     "start_time": "2024-02-14T09:55:08.652205",
     "status": "completed"
    },
    "tags": []
   },
   "outputs": [
    {
     "name": "stdout",
     "output_type": "stream",
     "text": [
      "Pipeline(steps=[('preprocessor',\n",
      "                 ColumnTransformer(transformers=[('num',\n",
      "                                                  Pipeline(steps=[('scaler',\n",
      "                                                                   StandardScaler())]),\n",
      "                                                  [0, 1, 3, 4])])),\n",
      "                ('regressor', RandomForestRegressor())])\n"
     ]
    }
   ],
   "source": [
    "from sklearn.compose import ColumnTransformer\n",
    "from sklearn.pipeline import Pipeline\n",
    "from sklearn.impute import SimpleImputer\n",
    "from sklearn.preprocessing import StandardScaler, OrdinalEncoder\n",
    "from sklearn.ensemble import RandomForestRegressor\n",
    "import numpy as np\n",
    "\n",
    "# Define preprocessing for numeric columns (scale them)\n",
    "numeric_features = [0,1,3,4]\n",
    "numeric_transformer = Pipeline(steps=[('scaler', StandardScaler())])\n",
    "\n",
    "# Combine preprocessing steps\n",
    "preprocessor = ColumnTransformer(transformers=[('num', numeric_transformer, numeric_features),])\n",
    "\n",
    "# Create preprocessing and training pipeline\n",
    "pipeline = Pipeline(steps=[('preprocessor', preprocessor),('regressor', RandomForestRegressor())])\n",
    "\n",
    "\n",
    "# fit the pipeline to train a linear regression model on the training set\n",
    "model = pipeline.fit(X_train, (y_train))\n",
    "print (model)"
   ]
  },
  {
   "cell_type": "code",
   "execution_count": 15,
   "id": "56360dfd",
   "metadata": {
    "execution": {
     "iopub.execute_input": "2024-02-14T09:55:09.095152Z",
     "iopub.status.busy": "2024-02-14T09:55:09.094143Z",
     "iopub.status.idle": "2024-02-14T09:55:09.117580Z",
     "shell.execute_reply": "2024-02-14T09:55:09.116193Z"
    },
    "papermill": {
     "duration": 0.039966,
     "end_time": "2024-02-14T09:55:09.120551",
     "exception": false,
     "start_time": "2024-02-14T09:55:09.080585",
     "status": "completed"
    },
    "tags": []
   },
   "outputs": [
    {
     "name": "stdout",
     "output_type": "stream",
     "text": [
      "Predicted : [23.995      47.61119167 24.231      15.003      53.84737857 29.009\n",
      " 26.552      35.686      41.47009524 16.038     ]\n",
      "Actual : 388    27.3\n",
      "102    54.4\n",
      "187    22.0\n",
      "162    11.6\n",
      "90     45.4\n",
      "398    23.0\n",
      "295    21.8\n",
      "397    32.2\n",
      "17     37.4\n",
      "58     22.6\n",
      "Name: price_per_unit, dtype: float64\n"
     ]
    }
   ],
   "source": [
    "predictions = model.predict(X_test)\n",
    "\n",
    "print('Predicted :', predictions [:10])\n",
    "print('Actual :', y_test [:10])"
   ]
  },
  {
   "cell_type": "code",
   "execution_count": 16,
   "id": "073c15d5",
   "metadata": {
    "execution": {
     "iopub.execute_input": "2024-02-14T09:55:09.146064Z",
     "iopub.status.busy": "2024-02-14T09:55:09.145237Z",
     "iopub.status.idle": "2024-02-14T09:55:09.153590Z",
     "shell.execute_reply": "2024-02-14T09:55:09.152554Z"
    },
    "papermill": {
     "duration": 0.021141,
     "end_time": "2024-02-14T09:55:09.155625",
     "exception": false,
     "start_time": "2024-02-14T09:55:09.134484",
     "status": "completed"
    },
    "tags": []
   },
   "outputs": [
    {
     "name": "stdout",
     "output_type": "stream",
     "text": [
      "MAE : 5.032113053968252\n",
      "MSE : 80.04279035349705\n",
      "RMSE : 8.946663643699647\n",
      "r2 : 0.652629687541241\n"
     ]
    }
   ],
   "source": [
    "mae = mean_absolute_error(y_test,predictions)\n",
    "print('MAE :',mae)\n",
    "\n",
    "mse = mean_squared_error(y_test,predictions)\n",
    "print('MSE :',mse)\n",
    "\n",
    "rmse = np.sqrt(mse)\n",
    "print('RMSE :',rmse)\n",
    "\n",
    "r2 = r2_score(y_test,predictions)\n",
    "print('r2 :', r2)"
   ]
  },
  {
   "cell_type": "code",
   "execution_count": 17,
   "id": "74a6ede8",
   "metadata": {
    "execution": {
     "iopub.execute_input": "2024-02-14T09:55:09.176913Z",
     "iopub.status.busy": "2024-02-14T09:55:09.175743Z",
     "iopub.status.idle": "2024-02-14T09:55:09.489340Z",
     "shell.execute_reply": "2024-02-14T09:55:09.488162Z"
    },
    "papermill": {
     "duration": 0.326529,
     "end_time": "2024-02-14T09:55:09.491610",
     "exception": false,
     "start_time": "2024-02-14T09:55:09.165081",
     "status": "completed"
    },
    "tags": []
   },
   "outputs": [
    {
     "data": {
      "text/plain": [
       "[<matplotlib.lines.Line2D at 0x7d0dce30ad40>]"
      ]
     },
     "execution_count": 17,
     "metadata": {},
     "output_type": "execute_result"
    },
    {
     "data": {
      "image/png": "[encoded data removed]",
      "text/plain": [
       "<Figure size 600x600 with 1 Axes>"
      ]
     },
     "metadata": {},
     "output_type": "display_data"
    }
   ],
   "source": [
    "plt.figure(figsize = (6,6))\n",
    "plt.scatter(y_test,predictions)\n",
    "plt.xlabel('Actual')\n",
    "plt.ylabel('Predicted')\n",
    "\n",
    "plt.title(' Actual vs Predicted')\n",
    "\n",
    "z = np.polyfit(y_test,predictions,1)\n",
    "p = np.poly1d(z)\n",
    "plt.plot(y_test,p(y_test),color = 'red')"
   ]
  },
  {
   "cell_type": "code",
   "execution_count": null,
   "id": "cbcf39aa",
   "metadata": {
    "papermill": {
     "duration": 0.011563,
     "end_time": "2024-02-14T09:55:09.516064",
     "exception": false,
     "start_time": "2024-02-14T09:55:09.504501",
     "status": "completed"
    },
    "tags": []
   },
   "outputs": [],
   "source": []
  }
 ],
 "metadata": {
  "kaggle": {
   "accelerator": "none",
   "dataSources": [
    {
     "datasetId": 4440395,
     "sourceId": 7622841,
     "sourceType": "datasetVersion"
    }
   ],
   "dockerImageVersionId": 30646,
   "isGpuEnabled": false,
   "isInternetEnabled": true,
   "language": "python",
   "sourceType": "notebook"
  },
  "kernelspec": {
   "display_name": "Python 3",
   "language": "python",
   "name": "python3"
  },
  "language_info": {
   "codemirror_mode": {
    "name": "ipython",
    "version": 3
   },
   "file_extension": ".py",
   "mimetype": "text/x-python",
   "name": "python",
   "nbconvert_exporter": "python",
   "pygments_lexer": "ipython3",
   "version": "3.10.13"
  },
  "papermill": {
   "default_parameters": {},
   "duration": 9.632529,
   "end_time": "2024-02-14T09:55:10.152899",
   "environment_variables": {},
   "exception": null,
   "input_path": "__notebook__.ipynb",
   "output_path": "__notebook__.ipynb",
   "parameters": {},
   "start_time": "2024-02-14T09:55:00.520370",
   "version": "2.5.0"
  }
 },
 "nbformat": 4,
 "nbformat_minor": 5
}
